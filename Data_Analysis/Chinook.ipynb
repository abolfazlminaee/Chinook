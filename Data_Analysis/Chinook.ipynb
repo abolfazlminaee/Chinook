{
 "cells": [
  {
   "cell_type": "code",
   "execution_count": 1,
   "metadata": {},
   "outputs": [],
   "source": [
    "import mysql.connector\n",
    "import sqlite3  \n",
    "import pandas as pd\n",
    "import numpy as np\n",
    "import matplotlib.pyplot as plt\n",
    "import seaborn as sns\n",
    "import scipy.stats as stats"
   ]
  },
  {
   "cell_type": "code",
   "execution_count": null,
   "metadata": {},
   "outputs": [],
   "source": [
    "mydb = mysql.connector.connect(\n",
    "    user='root', \n",
    "    password='password',\n",
    "    host='127.0.0.1', \n",
    "    database='Chinook',\n",
    "    auth_plugin='mysql_native_password')"
   ]
  },
  {
   "cell_type": "code",
   "execution_count": null,
   "metadata": {},
   "outputs": [],
   "source": [
    "album = pd.read_sql(\"SELECT * FROM Album\", mydb)\n",
    "artist = pd.read_sql(\"SELECT * FROM Artist\", mydb)\n",
    "customer = pd.read_sql(\"SELECT * FROM Customer\", mydb)\n",
    "employee = pd.read_sql(\"SELECT * FROM Employee\", mydb)\n",
    "genre = pd.read_sql(\"SELECT * FROM Genre\", mydb)\n",
    "invoice = pd.read_sql(\"SELECT * FROM Invoice\", mydb)\n",
    "invoice_line = pd.read_sql(\"SELECT * FROM InvoiceLine\", mydb)\n",
    "media_type = pd.read_sql(\"SELECT * FROM MediaType\", mydb)\n",
    "playlist = pd.read_sql(\"SELECT * FROM Playlist\", mydb)\n",
    "playlist_track = pd.read_sql(\"SELECT * FROM PlaylistTrack\", mydb)\n",
    "track = pd.read_sql(\"SELECT * FROM Track\", mydb)"
   ]
  },
  {
   "cell_type": "markdown",
   "metadata": {},
   "source": [
    "Normality test"
   ]
  },
  {
   "cell_type": "code",
   "execution_count": null,
   "metadata": {},
   "outputs": [],
   "source": [
    "tables = {  \n",
    "    'Album': pd.read_sql(\"SELECT * FROM Album\", mydb),  \n",
    "    'Artist': pd.read_sql(\"SELECT * FROM Artist\", mydb),  \n",
    "    'Customer': pd.read_sql(\"SELECT * FROM Customer\", mydb),  \n",
    "    'Employee': pd.read_sql(\"SELECT * FROM Employee\", mydb),  \n",
    "    'Genre': pd.read_sql(\"SELECT * FROM Genre\", mydb),  \n",
    "    'Invoice': pd.read_sql(\"SELECT * FROM Invoice\", mydb),  \n",
    "    'InvoiceLine': pd.read_sql(\"SELECT * FROM InvoiceLine\", mydb),  \n",
    "    'MediaType': pd.read_sql(\"SELECT * FROM MediaType\", mydb),  \n",
    "    'Playlist': pd.read_sql(\"SELECT * FROM Playlist\", mydb),  \n",
    "    'PlaylistTrack': pd.read_sql(\"SELECT * FROM PlaylistTrack\", mydb),  \n",
    "    'Track': pd.read_sql(\"SELECT * FROM Track\", mydb),  \n",
    "}\n",
    "\n",
    "def check_normality(data):\n",
    "    results = {}\n",
    "    numeric_columns = data.select_dtypes(include=['number']).columns\n",
    "    \n",
    "    for column in numeric_columns:\n",
    "        # 1. آزمون شاپیرو-ویلک\n",
    "        shapiro_stat, shapiro_p = stats.shapiro(data[column].dropna())\n",
    "        \n",
    "        # 2. آزمون کولموگروف-اسمیرنف\n",
    "        d_stat, ks_p = stats.kstest(data[column].dropna(), 'norm')  # مقایسه با توزیع نرمال\n",
    "        \n",
    "        # 3. رسم هیستوگرام و نمودار Q-Q\n",
    "        plt.figure(figsize=(12, 6))\n",
    "        \n",
    "        # هیستوگرام\n",
    "        plt.subplot(1, 2, 1)\n",
    "        sns.histplot(data[column], kde=True)\n",
    "        plt.title(f'Histogram of {column}')\n",
    "        \n",
    "        # نمودار Q-Q\n",
    "        plt.subplot(1, 2, 2)\n",
    "        stats.probplot(data[column].dropna(), dist=\"norm\", plot=plt)\n",
    "        plt.title(f'Q-Q Plot of {column}')\n",
    "        \n",
    "        plt.tight_layout()\n",
    "        plt.show()\n",
    "        \n",
    "        results[column] = {\n",
    "            \"Shapiro-Wilk\": shapiro_p,\n",
    "            \"Kolmogorov-Smirnov\": ks_p,\n",
    "            \"Shapiro-Wilk Result\": \"Normal\" if shapiro_p > 0.05 else \"Not Normal\",\n",
    "            \"Kolmogorov-Smirnov Result\": \"Normal\" if ks_p > 0.05 else \"Not Normal\"\n",
    "        }\n",
    "    \n",
    "    return results\n",
    "\n",
    "for table_name, data in tables.items():\n",
    "    print(f\"\\nNormality check for {table_name}:\")\n",
    "    normality_results = check_normality(data)\n",
    "    for column, result in normality_results.items():\n",
    "        print(f\"\\nColumn: {column}\")\n",
    "        print(f\"Shapiro-Wilk p-value: {result['Shapiro-Wilk']}, Result: {result['Shapiro-Wilk Result']}\")\n",
    "        print(f\"Kolmogorov-Smirnov p-value: {result['Kolmogorov-Smirnov']}, Result: {result['Kolmogorov-Smirnov Result']}\")"
   ]
  },
  {
   "cell_type": "markdown",
   "metadata": {},
   "source": [
    "Data cleaning"
   ]
  },
  {
   "cell_type": "markdown",
   "metadata": {},
   "source": [
    "duplicated"
   ]
  },
  {
   "cell_type": "code",
   "execution_count": null,
   "metadata": {},
   "outputs": [],
   "source": [
    "duplicates = album.duplicated().sum()\n",
    "print(\"Number of duplicate rows:\", duplicates)"
   ]
  },
  {
   "cell_type": "markdown",
   "metadata": {},
   "source": [
    "missing data"
   ]
  },
  {
   "cell_type": "code",
   "execution_count": null,
   "metadata": {},
   "outputs": [],
   "source": [
    "missing_values = track.isna().sum()\n",
    "print(\"Missing Values:\")\n",
    "print(missing_values)"
   ]
  },
  {
   "cell_type": "code",
   "execution_count": null,
   "metadata": {},
   "outputs": [],
   "source": [
    "track['Composer'].fillna('unknown', inplace=True)"
   ]
  },
  {
   "cell_type": "code",
   "execution_count": null,
   "metadata": {},
   "outputs": [],
   "source": [
    "missing_values = invoice.isna().sum()\n",
    "print(\"Missing Values:\")\n",
    "print(missing_values)"
   ]
  },
  {
   "cell_type": "code",
   "execution_count": null,
   "metadata": {},
   "outputs": [],
   "source": [
    "invoice['BillingState'].fillna('unknown', inplace=True)\n",
    "invoice['BillingPostalCode'].fillna('unknown', inplace=True)"
   ]
  },
  {
   "cell_type": "code",
   "execution_count": null,
   "metadata": {},
   "outputs": [],
   "source": [
    "missing_values = customer.isna().sum()\n",
    "print(\"Missing Values:\")\n",
    "print(missing_values)"
   ]
  },
  {
   "cell_type": "code",
   "execution_count": null,
   "metadata": {},
   "outputs": [],
   "source": [
    "customer['Company'].fillna('unknown', inplace=True)\n",
    "customer['State'].fillna('unknown', inplace=True)\n",
    "customer['PostalCode'].fillna('unknown', inplace=True)\n",
    "customer['Phone'].fillna('unknown', inplace=True)\n",
    "customer['Fax'].fillna('unknown', inplace=True)"
   ]
  },
  {
   "cell_type": "code",
   "execution_count": null,
   "metadata": {},
   "outputs": [],
   "source": [
    "missing_values = employee.isna().sum()\n",
    "print(\"Missing Values:\")\n",
    "print(missing_values)"
   ]
  },
  {
   "cell_type": "code",
   "execution_count": null,
   "metadata": {},
   "outputs": [],
   "source": [
    "employee['ReportsTo'].fillna('unknown', inplace=True)"
   ]
  },
  {
   "cell_type": "markdown",
   "metadata": {},
   "source": [
    "outlier"
   ]
  },
  {
   "cell_type": "code",
   "execution_count": null,
   "metadata": {},
   "outputs": [],
   "source": [
    "plt.boxplot(track['Milliseconds'], vert=False)\n",
    "plt.ylabel('Name')\n",
    "plt.xlabel('Milliseconds')\n",
    "plt.show()"
   ]
  },
  {
   "cell_type": "code",
   "execution_count": null,
   "metadata": {},
   "outputs": [],
   "source": [
    "plt.scatter(range(track.shape[0]), np.sort(track['Milliseconds'].values))\n",
    "plt.xlabel('Milliseconds')\n",
    "plt.ylabel('Name')\n",
    "sns.despine()"
   ]
  },
  {
   "cell_type": "code",
   "execution_count": null,
   "metadata": {},
   "outputs": [],
   "source": [
    "sns.distplot(track['Milliseconds'])\n",
    "sns.despine()"
   ]
  },
  {
   "cell_type": "code",
   "execution_count": null,
   "metadata": {},
   "outputs": [],
   "source": [
    "plt.boxplot(invoice['Total'], vert=False)\n",
    "plt.ylabel('Invoiceid')\n",
    "plt.xlabel('Total')\n",
    "plt.show()"
   ]
  },
  {
   "cell_type": "code",
   "execution_count": null,
   "metadata": {},
   "outputs": [],
   "source": [
    "plt.scatter(range(invoice.shape[0]), np.sort(invoice['Total'].values))\n",
    "plt.xlabel('Total')\n",
    "plt.ylabel('Invoiceid')\n",
    "sns.despine()"
   ]
  },
  {
   "cell_type": "code",
   "execution_count": null,
   "metadata": {},
   "outputs": [],
   "source": [
    "sns.distplot(invoice['Total'])\n",
    "sns.despine()"
   ]
  },
  {
   "cell_type": "code",
   "execution_count": null,
   "metadata": {},
   "outputs": [],
   "source": [
    "plt.boxplot(invoice_line['UnitPrice'], vert=False)\n",
    "plt.ylabel('InvoiceLineId')\n",
    "plt.xlabel('UnitPrice')\n",
    "plt.show()"
   ]
  },
  {
   "cell_type": "code",
   "execution_count": null,
   "metadata": {},
   "outputs": [],
   "source": [
    "plt.scatter(range(invoice_line.shape[0]), np.sort(invoice_line['UnitPrice'].values))\n",
    "plt.xlabel('UnitPrice')\n",
    "plt.ylabel('Invoiceid')\n",
    "sns.despine()"
   ]
  },
  {
   "cell_type": "code",
   "execution_count": null,
   "metadata": {},
   "outputs": [],
   "source": [
    "sns.distplot(invoice_line['UnitPrice'])\n",
    "sns.despine()"
   ]
  },
  {
   "cell_type": "markdown",
   "metadata": {},
   "source": [
    "3 ژانر محبوب رو پیدا کنید . تفاوت میانگین قیمت این دو توزیع رو بررسی کنید"
   ]
  },
  {
   "cell_type": "code",
   "execution_count": null,
   "metadata": {},
   "outputs": [],
   "source": [
    "merged_data = pd.merge(invoice_line, track, on='TrackId')\n",
    "merged_data = pd.merge(merged_data, genre, on='GenreId')\n",
    "\n",
    "popular_genres = merged_data.groupby('Name_y')['Quantity'].sum().nlargest(3)\n",
    "\n",
    "prices = merged_data.groupby('Name_y')['UnitPrice_y'].mean().loc[popular_genres.index]\n",
    "\n",
    "t_stat, p_value = stats.ttest_ind(merged_data[merged_data['Name_y'] == prices.index[0]]['UnitPrice_y'],\n",
    "                                   merged_data[merged_data['Name_y'] == prices.index[1]]['UnitPrice_y'])\n",
    "\n",
    "print(\"3 ژانر محبوب:\")\n",
    "print(popular_genres)\n",
    "print(\"\\nمیانگین قیمت ژانرها:\")\n",
    "print(prices)\n",
    "print(\"\\nنتایج آزمون t-test:\")\n",
    "print(f\"T-statistic: {t_stat}, P-value: {p_value}\")"
   ]
  },
  {
   "cell_type": "markdown",
   "metadata": {},
   "source": [
    " وجود استقلال بین طول آهنگ و قیمت آن را بررسی کنید"
   ]
  },
  {
   "cell_type": "code",
   "execution_count": null,
   "metadata": {},
   "outputs": [],
   "source": [
    "merged_data = pd.merge(invoice_line, track, on='TrackId')\n",
    "\n",
    "correlation = stats.pearsonr(merged_data['Milliseconds'], merged_data['UnitPrice_x'])\n",
    "print(f\"Correlation between track length and price: {correlation[0]}, P-value: {correlation[1]}\")\n"
   ]
  },
  {
   "cell_type": "markdown",
   "metadata": {},
   "source": [
    " استقالل ژانر آهنگ و نوع رسانه رو بررسی کنید "
   ]
  },
  {
   "cell_type": "code",
   "execution_count": null,
   "metadata": {},
   "outputs": [],
   "source": [
    "merged_data = pd.merge(track, media_type, on='MediaTypeId')\n",
    "\n",
    "contingency_table = pd.crosstab(merged_data['Name_x'], merged_data['MediaTypeId'])\n",
    "chi2_stat, p_value, dof, expected = stats.chi2_contingency(contingency_table)\n",
    "\n",
    "print(f\"Chi-squared statistic: {chi2_stat}, P-value: {p_value}\")"
   ]
  },
  {
   "cell_type": "markdown",
   "metadata": {},
   "source": [
    "محاسبه میانگین قیمت بر اساس نوع رسانه  "
   ]
  },
  {
   "cell_type": "code",
   "execution_count": null,
   "metadata": {},
   "outputs": [],
   "source": [
    "merged_media_prices = track.merge(media_type, on='MediaTypeId')  \n",
    "\n",
    "mean_price_per_media = merged_media_prices.groupby('MediaTypeId')['UnitPrice'].mean().reset_index(name='MeanPrice')  \n",
    "mean_price_per_media = mean_price_per_media.merge(media_type[['MediaTypeId', 'Name']], on='MediaTypeId')  \n",
    " \n",
    "print(mean_price_per_media[['Name', 'MeanPrice']])  "
   ]
  },
  {
   "cell_type": "markdown",
   "metadata": {},
   "source": [
    "محاسبه مشتریانی که چند بار خرید کرده‌اند "
   ]
  },
  {
   "cell_type": "code",
   "execution_count": null,
   "metadata": {},
   "outputs": [],
   "source": [
    "customer_purchase_count = invoice.groupby('CustomerId')['InvoiceId'].count().reset_index(name='PurchaseCount')  \n",
    " \n",
    "repeated_customers = customer_purchase_count[customer_purchase_count['PurchaseCount'] > 1]  \n",
    "average_repeated_purchases = repeated_customers['PurchaseCount'].mean()  \n",
    "\n",
    "print(f\"Average number of purchases for repeat customers: {average_repeated_purchases}\")  "
   ]
  },
  {
   "cell_type": "markdown",
   "metadata": {},
   "source": [
    "محاسبه تعداد خریدها برای هر آلبوم "
   ]
  },
  {
   "cell_type": "code",
   "execution_count": null,
   "metadata": {},
   "outputs": [],
   "source": [
    "merged_album = invoice_line.merge(track, on='TrackId').merge(album, on='AlbumId')  \n",
    " \n",
    "album_purchase_count = merged_album.groupby('AlbumId')['InvoiceLineId'].count().reset_index(name='PurchaseCount')  \n",
    "popular_albums = album_purchase_count.merge(album[['AlbumId', 'Title']], on='AlbumId')  \n",
    "\n",
    "popular_albums = popular_albums.sort_values(by='PurchaseCount', ascending=False)  \n",
    "\n",
    "print(popular_albums[['Title', 'PurchaseCount']]) "
   ]
  },
  {
   "cell_type": "markdown",
   "metadata": {},
   "source": [
    "میانگین طول آهنگ ها در ژانرهای مختلف یکسانه؟ فاصله اطمینان 95 درصدی برای میانگین طول آهنگها در هر ژانر را محاسبه کنید"
   ]
  },
  {
   "cell_type": "code",
   "execution_count": null,
   "metadata": {},
   "outputs": [],
   "source": [
    "def confidence_interval(data):\n",
    "    if len(data) < 2:\n",
    "        return (np.nan, np.nan)\n",
    "    mean = np.mean(data)\n",
    "    std_err = stats.sem(data)\n",
    "    ci = stats.t.interval(0.95, len(data)-1, loc=mean, scale=std_err)\n",
    "    return ci\n",
    "\n",
    "sample_sizes = track.groupby('GenreId')['Milliseconds'].count()\n",
    "\n",
    "valid_genres = sample_sizes[sample_sizes > 1].index\n",
    "\n",
    "length_ci = track[track['GenreId'].isin(valid_genres)].groupby('GenreId')['Milliseconds'].apply(confidence_interval)\n",
    "\n",
    "print(\"فاصله اطمینان 95 درصدی برای میانگین طول آهنگ‌ها در هر ژانر:\")\n",
    "print(length_ci)"
   ]
  },
  {
   "cell_type": "markdown",
   "metadata": {},
   "source": [
    "میانگین فروش در کشورهای مختلف چقدره؟ فاصله اطمینان 95 درصدی برای میانگین فروش در هر کشور را محاسبه کنید"
   ]
  },
  {
   "cell_type": "code",
   "execution_count": null,
   "metadata": {},
   "outputs": [],
   "source": [
    "merged_data = pd.merge(invoice, customer, on='CustomerId')\n",
    "\n",
    "def confidence_interval(data, confidence=0.95):\n",
    "    mean = np.mean(data)\n",
    "    sem = stats.sem(data)  \n",
    "    h = sem * stats.t.ppf((1 + confidence) / 2., len(data)-1)  \n",
    "    return mean - h, mean + h\n",
    "\n",
    "\n",
    "sales_ci = merged_data.groupby('Country')['Total'].apply(confidence_interval)\n",
    "print(\"فاصله اطمینان 95 درصدی برای میانگین فروش در هر کشور:\")\n",
    "print(sales_ci)"
   ]
  },
  {
   "cell_type": "markdown",
   "metadata": {},
   "source": [
    "• میانگین تعداد آهن گ های خریداری شده توسط هر کاربر چقدره؟ فاصله اط مینان 95 درصدی \n",
    "برای میانگین تعداد آهنگ های خریداری شده توسط هر کاربر را محاسبه کنید "
   ]
  },
  {
   "cell_type": "code",
   "execution_count": null,
   "metadata": {},
   "outputs": [],
   "source": [
    "merged_data = pd.merge(invoice_line, invoice, on='InvoiceId')\n",
    "purchase_counts_ci = merged_data.groupby('CustomerId')['Quantity'].apply(confidence_interval)\n",
    "print(\"فاصله اطمینان 95 درصدی برای میانگین تعداد آهنگ‌های خریداری شده توسط هر کاربر:\")\n",
    "print(purchase_counts_ci)"
   ]
  }
 ],
 "metadata": {
  "kernelspec": {
   "display_name": "myvenv",
   "language": "python",
   "name": "python3"
  },
  "language_info": {
   "codemirror_mode": {
    "name": "ipython",
    "version": 3
   },
   "file_extension": ".py",
   "mimetype": "text/x-python",
   "name": "python",
   "nbconvert_exporter": "python",
   "pygments_lexer": "ipython3",
   "version": "3.13.2"
  }
 },
 "nbformat": 4,
 "nbformat_minor": 2
}
